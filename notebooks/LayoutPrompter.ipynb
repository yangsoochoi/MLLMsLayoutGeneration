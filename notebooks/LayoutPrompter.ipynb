{
 "cells": [
  {
   "cell_type": "code",
   "execution_count": 14,
   "metadata": {},
   "outputs": [
    {
     "name": "stdout",
     "output_type": "stream",
     "text": [
      "The autoreload extension is already loaded. To reload it, use:\n",
      "  %reload_ext autoreload\n"
     ]
    }
   ],
   "source": [
    "%load_ext autoreload\n",
    "%autoreload 2"
   ]
  },
  {
   "cell_type": "markdown",
   "metadata": {},
   "source": [
    "# Configuration"
   ]
  },
  {
   "cell_type": "code",
   "execution_count": 15,
   "metadata": {},
   "outputs": [],
   "source": [
    "tasks = [\"gent\", \"gents\", \"genr\", \"completion\", \"refinement\"]\n",
    "dataset = \"rico\"\n",
    "task = tasks[0]\n",
    "input_format = \"seq\"\n",
    "output_format = \"html\"\n",
    "add_unk_token = False\n",
    "add_index_token = True\n",
    "add_sep_token = True\n",
    "candidate_size = -1  # -1 represents the complete training set\n",
    "num_prompt = 2"
   ]
  },
  {
   "cell_type": "code",
   "execution_count": 19,
   "metadata": {},
   "outputs": [],
   "source": [
    "import sys\n",
    "from pathlib import Path\n",
    "# src 디렉토리 경로 추가\n",
    "src_path = Path(\"../src\")  # notebooks에서 src로 이동하는 상대 경로\n",
    "sys.path.append(str(src_path))"
   ]
  },
  {
   "cell_type": "markdown",
   "metadata": {},
   "source": [
    "# Process raw data"
   ]
  },
  {
   "cell_type": "code",
   "execution_count": 16,
   "metadata": {},
   "outputs": [],
   "source": [
    "import os\n",
    "\n",
    "from preprocess import create_processor\n",
    "from utils import RAW_DATA_PATH, read_pt, write_pt\n",
    "from tqdm import tqdm\n",
    "\n",
    "\n",
    "processor = create_processor(dataset=dataset, task=task)\n",
    "base_dir = os.path.dirname(os.getcwd())\n",
    "\n",
    "\n",
    "def get_processed_data(split):\n",
    "    filename = os.path.join(\n",
    "        base_dir, \"dataset\", dataset, \"processed\", task, f\"{split}.pt\"\n",
    "    )\n",
    "    if os.path.exists(filename):\n",
    "        processed_data = read_pt(filename)\n",
    "    else:\n",
    "        processed_data = []\n",
    "        os.makedirs(os.path.dirname(filename), exist_ok=True)\n",
    "        raw_path = os.path.join(RAW_DATA_PATH(dataset), f\"{split}.pt\")\n",
    "        raw_data = read_pt(raw_path)\n",
    "        for rd in tqdm(raw_data, desc=f\"{split} data processing...\"):\n",
    "            processed_data.append(processor(rd))\n",
    "        write_pt(filename, processed_data)\n",
    "    return processed_data\n",
    "\n",
    "\n",
    "processed_train_data = get_processed_data(\"train\")\n",
    "processed_val_data = get_processed_data(\"val\")\n",
    "processed_test_data = get_processed_data(\"test\")"
   ]
  },
  {
   "cell_type": "markdown",
   "metadata": {},
   "source": [
    "# Dynamic exemplar selection"
   ]
  },
  {
   "cell_type": "code",
   "execution_count": 17,
   "metadata": {},
   "outputs": [],
   "source": [
    "from selection import create_selector\n",
    "\n",
    "selector = create_selector(\n",
    "    task=task,\n",
    "    train_data=processed_train_data,\n",
    "    candidate_size=candidate_size,\n",
    "    num_prompt=num_prompt,\n",
    ")\n",
    "\n",
    "test_idx = 0\n",
    "exemplars = selector(processed_test_data[test_idx])"
   ]
  },
  {
   "cell_type": "markdown",
   "metadata": {},
   "source": [
    "# Input-output serialization"
   ]
  },
  {
   "cell_type": "code",
   "execution_count": 45,
   "metadata": {},
   "outputs": [],
   "source": [
    "from origin_serialization import create_serializer, build_prompt\n",
    "\n",
    "serializer = create_serializer(\n",
    "    dataset=dataset,\n",
    "    task=task,\n",
    "    input_format=input_format,\n",
    "    output_format=output_format,\n",
    "    add_index_token=add_index_token,\n",
    "    add_sep_token=add_sep_token,\n",
    "    add_unk_token=add_unk_token\n",
    ")\n",
    "prompt = build_prompt(serializer, exemplars, processed_test_data[test_idx], dataset)"
   ]
  },
  {
   "cell_type": "code",
   "execution_count": 46,
   "metadata": {},
   "outputs": [
    {
     "name": "stdout",
     "output_type": "stream",
     "text": [
      "Please generate a layout based on the given information. You need to ensure that the generated layout looks realistic, with elements well aligned and avoiding unnecessary overlap.\n",
      "Task Description: generation conditioned on given element types\n",
      "Layout Domain: android layout\n",
      "Canvas Size: canvas width is 90px, canvas height is 160px\n",
      "\n",
      "Element Type Constraint: background image 0 | icon 1 | image 2 | image 3 | image 4 | text 5 | text 6 | text 7 | text 8 | text 9 | text 10 | text 11 | text button 12 | text button 13 | text button 14\n",
      "<html>\n",
      "<body>\n",
      "<div class=\"canvas\" style=\"left: 0px; top: 0px; width: 90px; height: 160px\"></div>\n",
      "<div class=\"background image\" style=\"index: 0; left: 0px; top: 0px; width: 90px; height: 160px\"></div>\n",
      "<div class=\"icon\" style=\"index: 1; left: 79px; top: 3px; width: 8px; height: 9px\"></div>\n",
      "<div class=\"image\" style=\"index: 2; left: 2px; top: 3px; width: 6px; height: 7px\"></div>\n",
      "<div class=\"image\" style=\"index: 3; left: 31px; top: 85px; width: 26px; height: 4px\"></div>\n",
      "<div class=\"image\" style=\"index: 4; left: 63px; top: 95px; width: 9px; height: 10px\"></div>\n",
      "<div class=\"text\" style=\"index: 5; left: 10px; top: 4px; width: 2px; height: 5px\"></div>\n",
      "<div class=\"text\" style=\"index: 6; left: 16px; top: 42px; width: 56px; height: 20px\"></div>\n",
      "<div class=\"text\" style=\"index: 7; left: 16px; top: 69px; width: 17px; height: 4px\"></div>\n",
      "<div class=\"text\" style=\"index: 8; left: 16px; top: 77px; width: 42px; height: 4px\"></div>\n",
      "<div class=\"text\" style=\"index: 9; left: 16px; top: 90px; width: 9px; height: 4px\"></div>\n",
      "<div class=\"text\" style=\"index: 10; left: 16px; top: 98px; width: 47px; height: 4px\"></div>\n",
      "<div class=\"text\" style=\"index: 11; left: 16px; top: 109px; width: 30px; height: 4px\"></div>\n",
      "<div class=\"text button\" style=\"index: 12; left: 59px; top: 74px; width: 14px; height: 10px\"></div>\n",
      "<div class=\"text button\" style=\"index: 13; left: 47px; top: 106px; width: 26px; height: 10px\"></div>\n",
      "<div class=\"text button\" style=\"index: 14; left: 49px; top: 147px; width: 28px; height: 10px\"></div>\n",
      "</body>\n",
      "</html>\n",
      "\n",
      "Element Type Constraint: input 0 | input 1 | input 2 | text 3 | text button 4 | text button 5 | text button 6\n",
      "<html>\n",
      "<body>\n",
      "<div class=\"canvas\" style=\"left: 0px; top: 0px; width: 90px; height: 160px\"></div>\n",
      "<div class=\"input\" style=\"index: 0; left: 5px; top: 12px; width: 79px; height: 10px\"></div>\n",
      "<div class=\"input\" style=\"index: 1; left: 5px; top: 25px; width: 79px; height: 10px\"></div>\n",
      "<div class=\"input\" style=\"index: 2; left: 5px; top: 51px; width: 79px; height: 10px\"></div>\n",
      "<div class=\"text\" style=\"index: 3; left: 5px; top: 38px; width: 79px; height: 10px\"></div>\n",
      "<div class=\"text button\" style=\"index: 4; left: 5px; top: 65px; width: 79px; height: 10px\"></div>\n",
      "<div class=\"text button\" style=\"index: 5; left: 5px; top: 79px; width: 79px; height: 10px\"></div>\n",
      "<div class=\"text button\" style=\"index: 6; left: 5px; top: 95px; width: 79px; height: 10px\"></div>\n",
      "</body>\n",
      "</html>\n",
      "\n",
      "Element Type Constraint: image 0 | image 1 | image 2 | image 3 | pager indicator 4 | text 5 | text 6 | text button 7 | text button 8\n",
      "\n"
     ]
    }
   ],
   "source": [
    "print(prompt)"
   ]
  },
  {
   "cell_type": "markdown",
   "metadata": {},
   "source": [
    "# Call GPT"
   ]
  },
  {
   "cell_type": "code",
   "execution_count": null,
   "metadata": {},
   "outputs": [],
   "source": [
    "modeltype = \"gpt-4o-mini\"\n",
    "# modeltype = \"gpt-3.5-turbo-instruct\"\n",
    "temperature = 0.7\n",
    "max_tokens = 800\n",
    "top_p = 1\n",
    "frequency_penalty = 0\n",
    "presence_penalty = 0\n",
    "num_return = 1\n",
    "stop_token = \"\\n\\n\"\n",
    "# ENTER API KEY\n",
    "os.environ[\"OPENAI_API_KEY\"] = \"\""
   ]
  },
  {
   "cell_type": "code",
   "execution_count": 47,
   "metadata": {},
   "outputs": [],
   "source": [
    "response = client.completions.create(\n",
    "    model=model,\n",
    "    prompt=prompt,\n",
    "    temperature=temperature,\n",
    "    max_tokens=max_tokens,\n",
    "    top_p=top_p,\n",
    "    frequency_penalty=frequency_penalty,\n",
    "    presence_penalty=presence_penalty,\n",
    "    n=num_return,\n",
    "    stop=[stop_token],\n",
    ")"
   ]
  },
  {
   "cell_type": "code",
   "execution_count": 48,
   "metadata": {},
   "outputs": [
    {
     "name": "stdout",
     "output_type": "stream",
     "text": [
      "<html>\n",
      "<body>\n",
      "<div class=\"canvas\" style=\"left: 0px; top: 0px; width: 90px; height: 160px\"></div>\n",
      "<div class=\"image\" style=\"index: 0; left: 0px; top: 0px; width: 90px; height: 160px\"></div>\n",
      "<div class=\"image\" style=\"index: 1; left: 30px; top: 5px; width: 30px; height: 30px\"></div>\n",
      "<div class=\"image\" style=\"index: 2; left: 30px; top: 40px; width: 30px; height: 30px\"></div>\n",
      "<div class=\"image\" style=\"index: 3; left: 30px; top: 75px; width: 30px; height: 30px\"></div>\n",
      "<div class=\"pager indicator\" style=\"index: 4; left: 40px; top: 120px; width: 10px; height: 10px\"></div>\n",
      "<div class=\"text\" style=\"index: 5; left: 5px; top: 90px; width: 80px; height: 20px\"></div>\n",
      "<div class=\"text\" style=\"index: 6; left: 5px; top: 130px; width: 80px; height: 20px\"></div>\n",
      "<div class=\"text button\" style=\"index: 7; left: 10px; top: 110px; width: 20px; height: 10px\"></div>\n",
      "<div class=\"text button\" style=\"index: 8; left: 60px; top: 110px; width: 20px; height: 10px\"></div>\n",
      "</body>\n",
      "</html>\n"
     ]
    }
   ],
   "source": [
    "print(response.choices[0].text.strip())"
   ]
  },
  {
   "cell_type": "code",
   "execution_count": 51,
   "metadata": {},
   "outputs": [
    {
     "name": "stdout",
     "output_type": "stream",
     "text": [
      "filter -971 invalid response\n"
     ]
    }
   ],
   "source": [
    "parser = Parser(dataset=dataset, output_format=output_format)\n",
    "parsed_response = parser(response)\n",
    "print(f\"filter {num_return - len(parsed_response)} invalid response\")"
   ]
  },
  {
   "cell_type": "markdown",
   "metadata": {},
   "source": [
    "# 추론"
   ]
  },
  {
   "cell_type": "code",
   "execution_count": 55,
   "metadata": {},
   "outputs": [
    {
     "name": "stdout",
     "output_type": "stream",
     "text": [
      "div_tag is None, skipping find_all()\n"
     ]
    }
   ],
   "source": [
    "from origin_serialization import create_serializer, build_prompt\n",
    "import pandas as pd\n",
    "from openai import OpenAI\n",
    "from gpt_parsing import Gpt_parser\n",
    "\n",
    "all_results_df = pd.DataFrame(columns=['test_idx', 'response'])\n",
    "\n",
    "selector = create_selector(\n",
    "    task=task,\n",
    "    train_data=processed_train_data,\n",
    "    candidate_size=candidate_size,\n",
    "    num_prompt=num_prompt,\n",
    ")\n",
    "\n",
    "serializer = create_serializer(\n",
    "    dataset=dataset,\n",
    "    task=task,\n",
    "    input_format=input_format,\n",
    "    output_format=output_format,\n",
    "    add_index_token=add_index_token,\n",
    "    add_sep_token=add_sep_token,\n",
    "    add_unk_token=add_unk_token\n",
    ")\n",
    "parser = Gpt_parser(dataset=dataset, output_format=output_format)\n",
    "client = OpenAI()\n",
    "\n",
    "for test_idx in range(101):\n",
    "    test_data = processed_test_data[test_idx]\n",
    "    exemplars = selector(test_data)\n",
    "\n",
    "    prompt = build_prompt(serializer, exemplars,  test_data, dataset)\n",
    "    response = client.chat.completions.create(\n",
    "        model=\"gpt-4o-mini\",\n",
    "        messages=[\n",
    "            {\"role\": \"user\", \"content\": [\n",
    "                {\"type\" : \"text\",\"text\" : f\"{prompt}\",}\n",
    "                ]}],\n",
    "                temperature = temperature,\n",
    "                top_p = top_p,\n",
    "                frequency_penalty = frequency_penalty,\n",
    "                presence_penalty = presence_penalty)\n",
    "    # Parse and store the response\n",
    "    try:\n",
    "        if response is not None:\n",
    "            parsed_response = parser(response)\n",
    "            result_df = pd.DataFrame({\n",
    "                'test_idx': [test_idx],\n",
    "                'response': [parsed_response]\n",
    "            })\n",
    "\n",
    "            all_results_df = pd.concat([all_results_df, result_df], ignore_index=True)\n",
    "    except AttributeError:\n",
    "        print(\"div_tag is None, skipping find_all()\")\n",
    "    "
   ]
  },
  {
   "cell_type": "code",
   "execution_count": null,
   "metadata": {},
   "outputs": [
    {
     "name": "stdout",
     "output_type": "stream",
     "text": [
      "ChatCompletion(id='chatcmpl-Acoo6bXlT9goe3dKnEUZJldfHfiXU', choices=[Choice(finish_reason='stop', index=0, logprobs=None, message=ChatCompletionMessage(content='Based on the provided information, I will create a realistic Android layout that adheres to the specified constraints. The layout will be visually organized and all elements will be properly aligned within the canvas size of 90px width and 160px height.\\n\\n### Android Layout Layout\\n\\n```html\\n<html>\\n<body>\\n<div class=\"canvas\" style=\"left: 0px; top: 0px; width: 90px; height: 160px; position: relative; border: 1px solid #000;\">\\n    <div class=\"toolbar\" style=\"index: 0; left: 0px; top: 0px; width: 90px; height: 13px; background-color: #ddd; position: absolute;\"></div>\\n    <div class=\"image\" style=\"index: 1; left: 2px; top: 15px; width: 86px; height: 40px; background-image: url(\\'image1.png\\'); background-size: cover; position: absolute;\"></div>\\n    <div class=\"image\" style=\"index: 2; left: 2px; top: 58px; width: 86px; height: 40px; background-image: url(\\'image2.png\\'); background-size: cover; position: absolute;\"></div>\\n    <div class=\"image\" style=\"index: 3; left: 2px; top: 101px; width: 86px; height: 40px; background-image: url(\\'image3.png\\'); background-size: cover; position: absolute;\"></div>\\n    <div class=\"text\" style=\"index: 4; left: 5px; top: 15px; width: 80px; height: 10px; font-size: 10px; position: absolute;\">Image 1 Title</div>\\n    <div class=\"text\" style=\"index: 5; left: 5px; top: 58px; width: 80px; height: 10px; font-size: 10px; position: absolute;\">Image 2 Title</div>\\n    <div class=\"text\" style=\"index: 6; left: 5px; top: 101px; width: 80px; height: 10px; font-size: 10px; position: absolute;\">Image 3 Title</div>\\n    <div class=\"text button\" style=\"index: 7; left: 5px; top: 135px; width: 80px; height: 10px; background-color: #4CAF50; color: white; text-align: center; line-height: 10px; position: absolute; cursor: pointer;\">Click Me</div>\\n</div>\\n</body>\\n</html>\\n```\\n\\n### Explanation of the Layout:\\n- **Canvas**: A div that represents the entire layout area (90px by 160px).\\n- **Toolbar**: Positioned at the top of the canvas to serve as a navigation bar or header.\\n- **Images**: Three images are stacked vertically, each with a title underneath. The images have been assigned background images for representation.\\n- **Text**: Each image has a corresponding title positioned directly below it.\\n- **Text Button**: A clickable button at the bottom of the canvas for user interaction.\\n\\n### Design Considerations:\\n- All elements are absolutely positioned within the canvas, ensuring no overlap and maintaining a coherent flow.\\n- The layout is simple and adheres to the constraints provided, making it suitable for a mobile interface. \\n\\nFeel free to adjust the dimensions, colors, or images as needed!', refusal=None, role='assistant', function_call=None, tool_calls=None))], created=1733815130, model='gpt-4o-mini-2024-07-18', object='chat.completion', service_tier=None, system_fingerprint='fp_bba3c8e70b', usage=CompletionUsage(completion_tokens=754, prompt_tokens=1063, total_tokens=1817, prompt_tokens_details={'cached_tokens': 0, 'audio_tokens': 0}, completion_tokens_details={'reasoning_tokens': 0, 'audio_tokens': 0, 'accepted_prediction_tokens': 0, 'rejected_prediction_tokens': 0}))\n"
     ]
    }
   ],
   "source": [
    "print(response)"
   ]
  },
  {
   "cell_type": "markdown",
   "metadata": {},
   "source": [
    "# Parsing"
   ]
  },
  {
   "cell_type": "code",
   "execution_count": 25,
   "metadata": {},
   "outputs": [
    {
     "name": "stdout",
     "output_type": "stream",
     "text": [
      "filter 0 invalid response\n"
     ]
    }
   ],
   "source": [
    "from parsing import Parser\n",
    "\n",
    "\n",
    "parser = Parser(dataset=dataset, output_format=output_format)\n",
    "parsed_response = parser(response)\n",
    "print(f\"filter {num_return - len(parsed_response)} invalid response\")"
   ]
  },
  {
   "cell_type": "markdown",
   "metadata": {},
   "source": [
    "# Layout ranking"
   ]
  },
  {
   "cell_type": "code",
   "execution_count": 26,
   "metadata": {},
   "outputs": [],
   "source": [
    "from ranker import Ranker\n",
    "\n",
    "val_path = os.path.join(RAW_DATA_PATH(dataset), \"val.pt\")\n",
    "ranker = Ranker(val_path=val_path)\n",
    "ranked_response = ranker(parsed_response)"
   ]
  },
  {
   "cell_type": "code",
   "execution_count": 27,
   "metadata": {},
   "outputs": [
    {
     "data": {
      "text/plain": [
       "[(tensor([ 2,  2,  2,  2, 16,  1,  1,  5,  5]),\n",
       "  tensor([[0.0556, 0.0312, 0.3333, 0.3125],\n",
       "          [0.5000, 0.0312, 0.4444, 0.2500],\n",
       "          [0.0556, 0.3750, 0.4444, 0.2500],\n",
       "          [0.5000, 0.3750, 0.4444, 0.2500],\n",
       "          [0.3889, 0.6875, 0.2222, 0.0625],\n",
       "          [0.0556, 0.8125, 0.2778, 0.0625],\n",
       "          [0.3889, 0.8125, 0.2778, 0.0625],\n",
       "          [0.0556, 0.9375, 0.4444, 0.0625],\n",
       "          [0.5000, 0.9375, 0.4444, 0.0625]])),\n",
       " (tensor([ 2,  2,  2,  2, 16,  1,  1,  5,  5]),\n",
       "  tensor([[0.0333, 0.0625, 0.9333, 0.5000],\n",
       "          [0.0333, 0.5750, 0.9333, 0.2500],\n",
       "          [0.0333, 0.8375, 0.9333, 0.1250],\n",
       "          [0.0333, 0.9625, 0.9333, 0.0375],\n",
       "          [0.4222, 0.9250, 0.1556, 0.0250],\n",
       "          [0.0556, 0.0312, 0.8889, 0.0250],\n",
       "          [0.0556, 0.7500, 0.8889, 0.0250],\n",
       "          [0.2222, 0.6625, 0.5556, 0.0625],\n",
       "          [0.2222, 0.8375, 0.5556, 0.0625]])),\n",
       " (tensor([ 2,  2,  2,  2, 16,  1,  1,  5,  5]),\n",
       "  tensor([[0.1667, 0.0938, 0.6667, 0.1875],\n",
       "          [0.1111, 0.3438, 0.7778, 0.3125],\n",
       "          [0.0556, 0.6875, 0.8889, 0.2188],\n",
       "          [0.2222, 0.4375, 0.5556, 0.3125],\n",
       "          [0.4444, 0.8750, 0.1111, 0.0625],\n",
       "          [0.0556, 0.0312, 0.8889, 0.0625],\n",
       "          [0.0556, 0.7812, 0.8889, 0.0625],\n",
       "          [0.0556, 0.2500, 0.8889, 0.0625],\n",
       "          [0.0556, 0.5312, 0.8889, 0.0625]]))]"
      ]
     },
     "execution_count": 27,
     "metadata": {},
     "output_type": "execute_result"
    }
   ],
   "source": [
    "parsed_response"
   ]
  },
  {
   "cell_type": "markdown",
   "metadata": {},
   "source": [
    "# 평가"
   ]
  },
  {
   "cell_type": "code",
   "execution_count": 56,
   "metadata": {},
   "outputs": [
    {
     "name": "stdout",
     "output_type": "stream",
     "text": [
      "No data for test_idx 68, skipping.\n"
     ]
    }
   ],
   "source": [
    "# calculate_ssim\n",
    "from ranker import Ranker\n",
    "from imgMetrics import calculate_ssim\n",
    "from visualization import Visualizer\n",
    "\n",
    "val_path = os.path.join(RAW_DATA_PATH(dataset), \"val.pt\")\n",
    "ranker = Ranker(val_path=val_path)\n",
    "\n",
    "visualizer = Visualizer(dataset)\n",
    "length  = len(all_results_df)\n",
    "ssimScores = []\n",
    "\n",
    "for test_idx in range(length):\n",
    "    response_values = all_results_df.loc[all_results_df['test_idx'] == test_idx, 'response'].values\n",
    "    \n",
    "    # 조회 결과가 비어있는지 확인하고, 비어있으면 건너뜀\n",
    "    if len(response_values) == 0:\n",
    "        print(f\"No data for test_idx {test_idx}, skipping.\")\n",
    "        continue\n",
    "\n",
    "    response_for_test_idx = response_values[0]\n",
    "    if (response_for_test_idx == [[]] or (len(response_for_test_idx) == 0) or (len(response_for_test_idx[0][0]) == 0)):\n",
    "        continue\n",
    "    test_data = processed_test_data[test_idx]\n",
    "    labels = test_data['labels']\n",
    "    bboxes = test_data['bboxes']\n",
    "    generated_images = visualizer([(labels, bboxes)])\n",
    "    testimg = generated_images[0]\n",
    "\n",
    "    ranked_response = ranker(response_for_test_idx)\n",
    "    response = ranked_response[0]\n",
    "    labels = response[0]  # response[0]은 라벨 텐서\n",
    "    bboxes = response[1]  # response[1]은 바운딩 박스 텐서\n",
    "    generated_images = visualizer([(labels, bboxes)])\n",
    "    inferenceImg = generated_images[0]\n",
    "    score = calculate_ssim(testimg, inferenceImg)\n",
    "    ssimScores.append(score)"
   ]
  },
  {
   "cell_type": "code",
   "execution_count": 57,
   "metadata": {},
   "outputs": [
    {
     "data": {
      "text/plain": [
       "0.7449612699035326"
      ]
     },
     "execution_count": 57,
     "metadata": {},
     "output_type": "execute_result"
    }
   ],
   "source": [
    "import numpy as np\n",
    "np.mean(ssimScores)"
   ]
  },
  {
   "cell_type": "code",
   "execution_count": 64,
   "metadata": {},
   "outputs": [
    {
     "name": "stderr",
     "output_type": "stream",
     "text": [
      "c:\\Users\\didtn\\.conda\\envs\\layoutprompter\\lib\\site-packages\\torchvision\\models\\_utils.py:208: UserWarning: The parameter 'pretrained' is deprecated since 0.13 and may be removed in the future, please use 'weights' instead.\n",
      "  warnings.warn(\n",
      "c:\\Users\\didtn\\.conda\\envs\\layoutprompter\\lib\\site-packages\\torchvision\\models\\_utils.py:223: UserWarning: Arguments other than a weight enum or `None` for 'weights' are deprecated since 0.13 and may be removed in the future. The current behavior is equivalent to passing `weights=Inception_V3_Weights.IMAGENET1K_V1`. You can also use `weights=Inception_V3_Weights.DEFAULT` to get the most up-to-date weights.\n",
      "  warnings.warn(msg)\n"
     ]
    },
    {
     "name": "stdout",
     "output_type": "stream",
     "text": [
      "No data for test_idx 68, skipping.\n"
     ]
    }
   ],
   "source": [
    "# calculate fid\n",
    "from ranker import Ranker\n",
    "from imgMetrics import calculate_fid\n",
    "\n",
    "val_path = os.path.join(RAW_DATA_PATH(dataset), \"val.pt\")\n",
    "ranker = Ranker(val_path=val_path)\n",
    "\n",
    "visualizer = Visualizer(dataset)\n",
    "length  = len(all_results_df)\n",
    "fidScores = []\n",
    "\n",
    "for test_idx in range(length):\n",
    "    response_values = all_results_df.loc[all_results_df['test_idx'] == test_idx, 'response'].values\n",
    "    \n",
    "    # 조회 결과가 비어있는지 확인하고, 비어있으면 건너뜀\n",
    "    if len(response_values) == 0:\n",
    "        print(f\"No data for test_idx {test_idx}, skipping.\")\n",
    "        continue\n",
    "\n",
    "    response_for_test_idx = response_values[0]\n",
    "    if (response_for_test_idx == [[]] or (len(response_for_test_idx) == 0) or (len(response_for_test_idx[0][0]) == 0)):\n",
    "        continue\n",
    "    test_data = processed_test_data[test_idx]\n",
    "    labels = test_data['labels']\n",
    "    bboxes = test_data['bboxes']\n",
    "    generated_images = visualizer([(labels, bboxes)])\n",
    "    testimg = generated_images[0]\n",
    "\n",
    "    ranked_response = ranker(response_for_test_idx)\n",
    "    response = ranked_response[0]\n",
    "    labels = response[0]  # response[0]은 라벨 텐서\n",
    "    bboxes = response[1]  # response[1]은 바운딩 박스 텐서\n",
    "    generated_images = visualizer([(labels, bboxes)])\n",
    "    inferenceImg = generated_images[0]\n",
    "    score = calculate_fid(testimg, inferenceImg)\n",
    "    fidScores.append(score)"
   ]
  },
  {
   "cell_type": "code",
   "execution_count": 65,
   "metadata": {},
   "outputs": [
    {
     "data": {
      "text/plain": [
       "131.1785610765587"
      ]
     },
     "execution_count": 65,
     "metadata": {},
     "output_type": "execute_result"
    }
   ],
   "source": [
    "import numpy as np\n",
    "np.mean(fidScores)"
   ]
  },
  {
   "cell_type": "code",
   "execution_count": 67,
   "metadata": {},
   "outputs": [],
   "source": [
    "from utils import compute_maximum_iou, convert_ltwh_to_ltrb\n",
    "## mIOU 결과값 출력\n",
    "# 원본 데이터셋의 라벨 및 바운딩 박스\n",
    "def mIOU(test_data, ranked_response):\n",
    "    labels_1 = test_data['labels']\n",
    "    bboxes_1 = test_data['bboxes']\n",
    "    \n",
    "    # 예측된 데이터셋의 라벨 및 바운딩 박스 리스트\n",
    "    mIoUScroe = 0\n",
    "    for response in ranked_response:\n",
    "        labels_2 = response[0]  # response[0]은 라벨 텐서\n",
    "        bboxes_2 = response[1]  # response[1]은 바운딩 박스 텐서\n",
    "        # compute_maximum_iou 함수를 호출하여 최대 유사도 계산\n",
    "        # _pred_labels = pred_labels.unsqueeze(0)\n",
    "        # _pred_bboxes = convert_ltwh_to_ltrb(pred_bboxes).unsqueeze(0)\n",
    "        iou_score = compute_maximum_iou(labels_1, bboxes_1, [labels_2], [bboxes_2])\n",
    "        # 결과 출력\n",
    "        if (iou_score > mIoUScroe):\n",
    "            mIoUScroe = iou_score\n",
    "            # print(f\"Computed Maximum IOU Score: {iou_score}\")\n",
    "    # print(f\"Max Score: {mIoUScroe}\")\n",
    "    return mIoUScroe"
   ]
  },
  {
   "cell_type": "code",
   "execution_count": 68,
   "metadata": {},
   "outputs": [],
   "source": [
    "from utils import compute_overlap\n",
    "import torch\n",
    "\n",
    "def mOverlap(ranked_response):\n",
    "    # 예측된 데이터셋의 라벨 및 바운딩 박스 리스트\n",
    "    for response in ranked_response:\n",
    "        labels_2 = response[0]  # response[0]은 라벨 텐서\n",
    "        bboxes_2 = response[1]  # response[1]은 바운딩 박스 텐서\n",
    "\n",
    "        _pred_labels = labels_2.unsqueeze(0)\n",
    "        _pred_bboxes = convert_ltwh_to_ltrb(bboxes_2).unsqueeze(0)\n",
    "        _pred_padding_mask = torch.ones_like(_pred_labels).bool()\n",
    "        return compute_overlap(_pred_bboxes, _pred_padding_mask)"
   ]
  },
  {
   "cell_type": "code",
   "execution_count": 70,
   "metadata": {},
   "outputs": [
    {
     "name": "stdout",
     "output_type": "stream",
     "text": [
      "No data for test_idx 68, skipping.\n",
      "0.44108948269142556\n"
     ]
    }
   ],
   "source": [
    "from ranker import Ranker\n",
    "from utils import (\n",
    "    compute_alignment,\n",
    "    compute_maximum_iou,\n",
    "    compute_overlap,\n",
    ")\n",
    "\n",
    "val_path = os.path.join(RAW_DATA_PATH(dataset), \"val.pt\")\n",
    "ranker = Ranker(val_path=val_path)\n",
    "\n",
    "outNum = 0\n",
    "mIOUscore = 0\n",
    "length  = len(all_results_df)\n",
    "for test_idx in range(length):\n",
    "    response_values = all_results_df.loc[all_results_df['test_idx'] == test_idx, 'response'].values\n",
    "    \n",
    "    # 조회 결과가 비어있는지 확인하고, 비어있으면 건너뜀\n",
    "    if len(response_values) == 0:\n",
    "        print(f\"No data for test_idx {test_idx}, skipping.\")\n",
    "        outNum = outNum + 1\n",
    "        continue\n",
    "\n",
    "    response_for_test_idx = response_values[0]\n",
    "    if (response_for_test_idx == [[]] or (len(response_for_test_idx) == 0) or (len(response_for_test_idx[0][0]) == 0)):\n",
    "        outNum = outNum + 1\n",
    "        continue\n",
    "    ranked_response = ranker(response_for_test_idx)\n",
    "    test_data = processed_test_data[test_idx]\n",
    "    mIOUscore = mIOUscore + mIOU(test_data, ranked_response)\n",
    "\n",
    "mIOUscore = mIOUscore / (length-outNum)\n",
    "\n",
    "print(mIOUscore)"
   ]
  },
  {
   "cell_type": "code",
   "execution_count": 75,
   "metadata": {},
   "outputs": [
    {
     "name": "stdout",
     "output_type": "stream",
     "text": [
      "No data for test_idx 68, skipping.\n",
      "Overlap Score = 0.27531176461623263\n",
      "Allign Score = 0.002640174193612228\n"
     ]
    }
   ],
   "source": [
    "from imgMetrics import calculateOverlap\n",
    "from imgMetrics import calculateAllignment\n",
    "\n",
    "val_path = os.path.join(RAW_DATA_PATH(dataset), \"val.pt\")\n",
    "ranker = Ranker(val_path=val_path)\n",
    "totalOverlap = 0\n",
    "totalAllign = 0\n",
    "outNum = 0\n",
    "length  = len(all_results_df)\n",
    "for test_idx in range(length):\n",
    "    response_values = all_results_df.loc[all_results_df['test_idx'] == test_idx, 'response'].values\n",
    "    \n",
    "    # 조회 결과가 비어있는지 확인하고, 비어있으면 건너뜀\n",
    "    if len(response_values) == 0:\n",
    "        print(f\"No data for test_idx {test_idx}, skipping.\")\n",
    "        outNum = outNum + 1\n",
    "        continue\n",
    "\n",
    "    response_for_test_idx = response_values[0]\n",
    "    if (response_for_test_idx == [[]] or (len(response_for_test_idx) == 0) or (len(response_for_test_idx[0][0]) == 0)):\n",
    "        outNum = outNum + 1\n",
    "        continue\n",
    "    ranked_response = ranker(response_for_test_idx)\n",
    "    \n",
    "    totalOverlap = totalOverlap + calculateOverlap(ranked_response[0])\n",
    "    totalAllign = totalAllign + calculateAllignment(ranked_response[0])\n",
    "print(\"Overlap Score = \" + str(totalOverlap/(length-outNum)))\n",
    "print(\"Allign Score = \" + str(totalAllign/(length-outNum)))"
   ]
  },
  {
   "cell_type": "markdown",
   "metadata": {},
   "source": [
    "# Visualization"
   ]
  },
  {
   "cell_type": "code",
   "execution_count": 28,
   "metadata": {},
   "outputs": [
    {
     "data": {
      "image/jpeg": "[encoded data removed]",
      "image/png": "[encoded data removed]",
      "text/plain": [
       "<PIL.Image.Image image mode=RGB size=1386x1464>"
      ]
     },
     "execution_count": 28,
     "metadata": {},
     "output_type": "execute_result"
    }
   ],
   "source": [
    "from visualization import Visualizer, create_image_grid\n",
    "\n",
    "\n",
    "visualizer = Visualizer(dataset)\n",
    "images = visualizer(ranked_response)\n",
    "create_image_grid(images)"
   ]
  }
 ],
 "metadata": {
  "kernelspec": {
   "display_name": "layoutprompter",
   "language": "python",
   "name": "python3"
  },
  "language_info": {
   "codemirror_mode": {
    "name": "ipython",
    "version": 3
   },
   "file_extension": ".py",
   "mimetype": "text/x-python",
   "name": "python",
   "nbconvert_exporter": "python",
   "pygments_lexer": "ipython3",
   "version": "3.8.2"
  }
 },
 "nbformat": 4,
 "nbformat_minor": 2
}
